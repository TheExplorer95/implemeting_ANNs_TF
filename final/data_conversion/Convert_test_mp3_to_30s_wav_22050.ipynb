{
 "cells": [
  {
   "cell_type": "code",
   "execution_count": 3,
   "id": "emerging-psychology",
   "metadata": {},
   "outputs": [],
   "source": [
    "import pydub"
   ]
  },
  {
   "cell_type": "code",
   "execution_count": 13,
   "id": "normal-armenia",
   "metadata": {},
   "outputs": [],
   "source": [
    "import tensorflow as tf\n",
    "import numpy as np\n",
    "import os\n",
    "from os import path\n",
    "from pydub import AudioSegment\n",
    "from os import listdir"
   ]
  },
  {
   "cell_type": "code",
   "execution_count": 14,
   "id": "threatened-clause",
   "metadata": {},
   "outputs": [],
   "source": [
    "def transform_to_wav(filepaths, directory_name, desired_sr):\n",
    "    \n",
    "    \n",
    "    for i, path in enumerate(filepaths):\n",
    "        if i%100 == 0:\n",
    "            print(i, \"completed\")\n",
    "        destination_file = os.path.join(directory_name, path.split(\"/\")[-1].replace(\"mp3\",\"wav\"))\n",
    "\n",
    "        # convert wav to mp3\n",
    "        try:\n",
    "            sound = AudioSegment.from_mp3(path)\n",
    "            l = sound.split_to_mono()\n",
    "        except:\n",
    "            print(\"file \", path, \" is corrupted\")\n",
    "            continue\n",
    "\n",
    "        try:\n",
    "            sound = l[np.random.randint(0,2)] # randomly take first or second channel\n",
    "        except:\n",
    "            sound = l[0]\n",
    "\n",
    "        sound = sound.set_frame_rate(desired_sr)\n",
    "        sound.export(destination_file, format=\"wav\")"
   ]
  },
  {
   "cell_type": "code",
   "execution_count": 15,
   "id": "north-birmingham",
   "metadata": {},
   "outputs": [],
   "source": [
    "all_mp3 = [\"pop.mp3\",\"reggae.mp3\",\"hiphop.mp3\",\n",
    " \"jazz.mp3\",\"metal.mp3\",\"disco.mp3\",\n",
    " \"rock.mp3\",\"country.mp3\",\"blues.mp3\",\"classical.mp3\"]"
   ]
  },
  {
   "cell_type": "code",
   "execution_count": 16,
   "id": "appreciated-weekend",
   "metadata": {},
   "outputs": [
    {
     "name": "stdout",
     "output_type": "stream",
     "text": [
      "0 completed\n"
     ]
    }
   ],
   "source": [
    "transform_to_wav(all_mp3, \"\", 22050)"
   ]
  },
  {
   "cell_type": "code",
   "execution_count": 28,
   "id": "rising-metallic",
   "metadata": {},
   "outputs": [],
   "source": [
    "all_wav = [\"test audio/pop.wav\",\"test audio/reggae.wav\",\"test audio/hiphop.wav\",\n",
    " \"test audio/jazz.wav\",\"test audio/metal.wav\",\"test audio/disco.wav\",\n",
    " \"test audio/rock.wav\",\"test audio/country.wav\",\"test audio/blues.wav\",\"test audio/classical.wav\"]"
   ]
  },
  {
   "cell_type": "code",
   "execution_count": 29,
   "id": "white-equity",
   "metadata": {},
   "outputs": [],
   "source": [
    "%config Completer.use_jedi = False"
   ]
  },
  {
   "cell_type": "code",
   "execution_count": 30,
   "id": "phantom-continuity",
   "metadata": {},
   "outputs": [
    {
     "data": {
      "text/plain": [
       "4402.3651700680275"
      ]
     },
     "execution_count": 30,
     "metadata": {},
     "output_type": "execute_result"
    }
   ],
   "source": [
    "sound.duration_seconds"
   ]
  },
  {
   "cell_type": "code",
   "execution_count": 32,
   "id": "atlantic-cleaning",
   "metadata": {},
   "outputs": [
    {
     "name": "stdout",
     "output_type": "stream",
     "text": [
      "test audio/pop.wav done\n",
      "test audio/reggae.wav done\n",
      "test audio/hiphop.wav done\n",
      "test audio/jazz.wav done\n",
      "test audio/metal.wav done\n",
      "test audio/disco.wav done\n",
      "test audio/rock.wav done\n",
      "test audio/country.wav done\n",
      "test audio/blues.wav done\n",
      "test audio/classical.wav done\n"
     ]
    }
   ],
   "source": [
    "import random\n",
    "iterations = 100\n",
    "\n",
    "for audio in all_wav:\n",
    "    sound = AudioSegment.from_wav(audio)\n",
    "    \n",
    "    for i in range(iterations):\n",
    "        start_sample = random.randint(30,22050*(int(sound.duration_seconds-35)))\n",
    "        sample = sound.get_sample_slice(start_sample= start_sample, end_sample = start_sample + 22050*30)\n",
    "        \n",
    "        sample.export(\"test audio/test_data/\"+ audio.split(\"/\")[-1].split(\".\")[0] + str(i)+ \".wav\", format=\"wav\")\n",
    "    print(audio, \"done\")"
   ]
  },
  {
   "cell_type": "code",
   "execution_count": null,
   "id": "binary-kazakhstan",
   "metadata": {},
   "outputs": [],
   "source": []
  }
 ],
 "metadata": {
  "kernelspec": {
   "display_name": "Python 3",
   "language": "python",
   "name": "python3"
  },
  "language_info": {
   "codemirror_mode": {
    "name": "ipython",
    "version": 3
   },
   "file_extension": ".py",
   "mimetype": "text/x-python",
   "name": "python",
   "nbconvert_exporter": "python",
   "pygments_lexer": "ipython3",
   "version": "3.8.8"
  }
 },
 "nbformat": 4,
 "nbformat_minor": 5
}

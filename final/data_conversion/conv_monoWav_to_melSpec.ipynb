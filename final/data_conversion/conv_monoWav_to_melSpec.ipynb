{
 "cells": [
  {
   "cell_type": "code",
   "execution_count": 32,
   "id": "functioning-doctor",
   "metadata": {
    "ExecuteTime": {
     "end_time": "2021-04-01T21:09:48.322335Z",
     "start_time": "2021-04-01T21:09:48.316970Z"
    }
   },
   "outputs": [],
   "source": [
    "from IPython.display import Audio\n",
    "import pandas as pd\n",
    "import seaborn as sns\n",
    "from sklearn.decomposition import PCA\n",
    "from sklearn.manifold import TSNE\n",
    "import os\n",
    "import librosa\n",
    "import librosa.display\n",
    "import tensorflow as tf\n",
    "\n",
    "import numpy as np\n",
    "import matplotlib.pyplot as plt\n",
    "from matplotlib.image import imsave\n",
    "%matplotlib inline"
   ]
  },
  {
   "cell_type": "code",
   "execution_count": 29,
   "id": "paperback-better",
   "metadata": {
    "ExecuteTime": {
     "end_time": "2021-04-01T17:50:33.597153Z",
     "start_time": "2021-04-01T17:50:33.589644Z"
    }
   },
   "outputs": [
    {
     "name": "stdout",
     "output_type": "stream",
     "text": [
      "(64, 14400)\n",
      "2250.0\n"
     ]
    }
   ],
   "source": [
    "data = np.load('gtzan/no_genres_melSpec64x14400_22050hz_np/blues.00001.npy')\n",
    "\n",
    "print(data.shape)\n",
    "\n",
    "window_size = 64\n",
    "k = 3\n",
    "tensor = tensor=tf.image.random_crop(data, size=[64, window_size*k])\n",
    "\n",
    "\n",
    "# tensor = tf.reshape(tensor=tf.image.random_crop(data, size=[window_size*k]), \n",
    "#                     shape=(1, k, window_size, 1))"
   ]
  },
  {
   "cell_type": "markdown",
   "id": "expected-strike",
   "metadata": {},
   "source": [
    "# Mel_spec extraction"
   ]
  },
  {
   "cell_type": "code",
   "execution_count": 33,
   "id": "ahead-gather",
   "metadata": {
    "ExecuteTime": {
     "end_time": "2021-04-01T21:14:56.485267Z",
     "start_time": "2021-04-01T21:10:55.727530Z"
    },
    "scrolled": true
   },
   "outputs": [
    {
     "name": "stdout",
     "output_type": "stream",
     "text": [
      "[INFO] - 0.00% finished\n",
      "[INFO] - 10.00% finished\n",
      "[INFO] - 20.00% finished\n",
      "[INFO] - 30.00% finished\n",
      "[INFO] - 40.00% finished\n",
      "[INFO] - 50.00% finished\n",
      "[INFO] - 60.00% finished\n",
      "[INFO] - 70.00% finished\n",
      "[INFO] - 80.00% finished\n",
      "[INFO] - 90.00% finished\n"
     ]
    }
   ],
   "source": [
    "# ----------Params--------------------------------\n",
    "# set paths\n",
    "orig_data_path = 'gtzan/no_genres/'\n",
    "save_data_path = 'gtzan/no_genres_melSpec64x14400_22050hz_np'\n",
    "save_img = True\n",
    "save_image_path = 'gtzan/no_genres_melSpec64x14400_22050hz_img'\n",
    "\n",
    "# set mel encoding\n",
    "n_fft = 2048  # standart for mel_spectograms of audio data\n",
    "n_mels = 64\n",
    "\n",
    "# set dimensions based on cpc training arguments\n",
    "T = 27 # samples (not seconds)\n",
    "k = 3 # samples (not seconds)\n",
    "audio_length = 30 # in seconds (entire audio file)\n",
    "cpc_length = 4 # in seconds (length of T+k in sec)\n",
    "\n",
    "# create dirs\n",
    "if not os.path.isdir(save_data_path):\n",
    "    os.mkdir(save_data_path)\n",
    "if not os.path.isdir(save_image_path):\n",
    "    os.mkdir(save_image_path)\n",
    "\n",
    "# ----------Encode audio files----------------------\n",
    "audio_fns = os.listdir(orig_data_path)\n",
    "audio_paths = [os.path.join(orig_data_path, fn) for fn in audio_fns]\n",
    "save_fns = [os.path.splitext(audio_fn)[0] for audio_fn in audio_fns]\n",
    "n_files = len(audio_paths)\n",
    "\n",
    "# calculate suiting hop length\n",
    "samples_per_cpc_timestep = n_mels # when equal to n_mels, will produce square images for encoder input\n",
    "samples_per_cpc_audio = (T+k) * samples_per_cpc_timestep # amount of samples per cpc_audio\n",
    "samples_per_audio_file = int(samples_per_cpc_audio / cpc_length * audio_length) # amount of samples per audio file\n",
    "_, orig_sr = librosa.load(audio_paths[0]) # get sr_rate for calculation of the hop size\n",
    "hop_length = int(orig_sr*audio_length // samples_per_audio_file)\n",
    "\n",
    "for i, audio_path in enumerate(audio_paths):\n",
    "    if i % 100 == 0:\n",
    "        print(f'[INFO] - {i/n_files*100:0.2f}% finished')\n",
    "\n",
    "    # load audio_data\n",
    "    audio_binary = tf.io.read_file(audio_path)\n",
    "    audio_file, sr = tf.audio.decode_wav(audio_binary,\n",
    "                                         desired_channels=1,\n",
    "                                         desired_samples=orig_sr*audio_length)\n",
    "    audio_file = np.squeeze(audio_file.numpy())\n",
    "\n",
    "    # convert audio to mel_spectrogram\n",
    "    audio_file = librosa.feature.melspectrogram(audio_file,\n",
    "                                                sr=sr,\n",
    "                                                n_fft=n_fft,\n",
    "                                                hop_length=hop_length,\n",
    "                                                n_mels=n_mels)\n",
    "    # convert power spec (amplitude squared) to decibels ('log scale' of amplitudes)\n",
    "    audio_file_DB = librosa.power_to_db(audio_file,\n",
    "                                        ref=np.min)\n",
    "    \n",
    "    # save the mel_spec and if desired an image of it\n",
    "    orig_audio_fn = os.path.splitext(audio_path.split('/')[-1])[0]\n",
    "    data_save_path = os.path.join(save_data_path, orig_audio_fn)\n",
    "    np.save(data_save_path, audio_file_DB[:, :samples_per_audio_file])\n",
    "    \n",
    "    if save_img:\n",
    "        save_fn = orig_audio_fn + '.jpeg'\n",
    "        save_path = os.path.join(save_image_path, save_fn)\n",
    "        imsave(save_path, audio_file_DB[:, :samples_per_audio_file])\n",
    "\n",
    "    del audio_file, audio_file_DB, audio_binary"
   ]
  },
  {
   "cell_type": "markdown",
   "id": "emotional-knight",
   "metadata": {},
   "source": [
    "# Visualization (mel_spec, PCA, tSNE)"
   ]
  },
  {
   "cell_type": "markdown",
   "id": "pending-wisdom",
   "metadata": {},
   "source": [
    "## Mel_specs"
   ]
  },
  {
   "cell_type": "code",
   "execution_count": 6,
   "id": "nervous-silver",
   "metadata": {
    "ExecuteTime": {
     "end_time": "2021-04-01T13:34:26.375404Z",
     "start_time": "2021-04-01T13:34:25.484966Z"
    },
    "scrolled": false
   },
   "outputs": [
    {
     "name": "stdout",
     "output_type": "stream",
     "text": [
      "(64, 14400) 1920.0\n"
     ]
    },
    {
     "name": "stderr",
     "output_type": "stream",
     "text": [
      "/home/janosch/.miniconda3/envs/tf_2.4/lib/python3.7/site-packages/librosa/display.py:974: MatplotlibDeprecationWarning: The 'basey' parameter of __init__() has been renamed 'base' since Matplotlib 3.3; support for the old name will be dropped two minor releases later.\n",
      "  scaler(mode, **kwargs)\n",
      "/home/janosch/.miniconda3/envs/tf_2.4/lib/python3.7/site-packages/librosa/display.py:974: MatplotlibDeprecationWarning: The 'linthreshy' parameter of __init__() has been renamed 'linthresh' since Matplotlib 3.3; support for the old name will be dropped two minor releases later.\n",
      "  scaler(mode, **kwargs)\n"
     ]
    },
    {
     "data": {
      "image/png": "[encoded data removed]",
      "text/plain": [
       "<Figure size 720x432 with 2 Axes>"
      ]
     },
     "metadata": {
      "needs_background": "light"
     },
     "output_type": "display_data"
    }
   ],
   "source": [
    "data_path = 'gtzan/no_genres/'\n",
    "# for data preprocessing (data_genertator) time resolution must be evenly divideble\n",
    "hop_length = 45  # 344\n",
    "n_mels = 64  # by desired_audio_length time_res%desired_audio_length == 0\n",
    "n_fft = 4096  # 2048\n",
    "\n",
    "desired_audio_length = 30  # entire audio_file\n",
    "audio_fns = os.listdir(data_path)\n",
    "audio_paths = [os.path.join(data_path, fn) for fn in audio_fns]\n",
    "\n",
    "audio_file, sr = librosa.load(audio_paths[20], sr=None)\n",
    "Audio(audio_file, rate=sr)\n",
    "\n",
    "audio_file = librosa.feature.melspectrogram(\n",
    "    audio_file, sr=sr, n_fft=n_fft, hop_length=hop_length, n_mels=n_mels)\n",
    "audio_file_DB = librosa.power_to_db(audio_file, ref=np.std)[:, :14400]\n",
    "print(audio_file_DB.shape, audio_file_DB[:, :14400].shape[1]/30*4)\n",
    "\n",
    "plt.figure(figsize=(10, 6))\n",
    "librosa.display.specshow(\n",
    "    audio_file_DB, sr=sr, hop_length=hop_length, x_axis='time', y_axis='mel')\n",
    "plt.colorbar(format='%+2.0f dB')\n",
    "plt.show()"
   ]
  },
  {
   "cell_type": "code",
   "execution_count": null,
   "id": "quantitative-republican",
   "metadata": {
    "ExecuteTime": {
     "end_time": "2021-03-31T18:30:52.977398Z",
     "start_time": "2021-03-31T18:30:52.402542Z"
    },
    "scrolled": false
   },
   "outputs": [],
   "source": [
    "data_path = 'gtzan/no_genres/'\n",
    "# for data preprocessing (data_genertator) time resolution must be evenly divideble\n",
    "hop_length = 344\n",
    "n_mels = 64  # by desired_audio_length time_res%desired_audio_length == 0\n",
    "n_fft = 2048\n",
    "\n",
    "desired_audio_length = 30  # entire audio_file\n",
    "save_img = False\n",
    "\n",
    "audio_fns = os.listdir(data_path)\n",
    "audio_paths = [os.path.join(data_path, fn) for fn in audio_fns]\n",
    "\n",
    "audio_file, sr = librosa.load(audio_paths[0], sr=None)\n",
    "Audio(audio_file, rate=sr)\n",
    "\n",
    "audio_file = librosa.feature.melspectrogram(\n",
    "    audio_file, sr=sr, n_fft=n_fft, hop_length=hop_length, n_mels=n_mels)\n",
    "audio_file_DB = librosa.power_to_db(audio_file, ref=np.max)[:, :3840]\n",
    "print(audio_file_DB.shape, audio_file_DB.shape[1]/30)\n",
    "\n",
    "plt.figure(figsize=(10, 6))\n",
    "librosa.display.specshow(\n",
    "    audio_file_DB, sr=sr, hop_length=hop_length, x_axis='time', y_axis='mel')\n",
    "plt.colorbar(format='%+2.0f dB')\n",
    "plt.show()\n",
    "\n",
    "print('max before', audio_file_DB.max())\n",
    "print('min before', audio_file_DB.min())\n",
    "\n",
    "\n",
    "# standardization\n",
    "mean = np.mean(audio_file_DB, axis=-1, keepdims=True)\n",
    "std = np.std(audio_file_DB, axis=-1, keepdims=True)\n",
    "\n",
    "import scipy\n",
    "audio_file_DB = (audio_file_DB-mean)/std\n",
    "audio_file_DB = scipy.ndimage.gaussian_filter1d(audio_file_DB, sigma=4, axis=1)\n",
    "\n",
    "plt.figure(figsize=(10, 6))\n",
    "librosa.display.specshow(\n",
    "    audio_file_DB, sr=sr, hop_length=hop_length, x_axis='time', y_axis='mel')\n",
    "plt.colorbar(format='%+2.0f dB')\n",
    "plt.show()\n",
    "\n",
    "print('max', audio_file_DB.max())\n",
    "print('min', audio_file_DB.min())\n",
    "\n",
    "#min max\n",
    "\n",
    "# a = tf.constant(-1, dtype=tf.float32)\n",
    "# b = tf.constant(1, dtype=tf.float32)\n",
    "# min = tf.math.reduce_min(audio_file_DB, axis=None)\n",
    "# max = tf.math.reduce_max(audio_file_DB, axis=None)\n",
    "# audio_file_DB = (a + ((audio_file_DB-min)*(b-a)/max-min)).numpy()\n",
    "\n",
    "audio_file_DB = tf.squeeze(tf.image.per_image_standardization(tf.expand_dims(audio_file_DB, axis=-1))).numpy()\n",
    "\n",
    "print('max', audio_file_DB.max())\n",
    "print('min', audio_file_DB.min())\n",
    "\n",
    "plt.figure(figsize=(10, 6))\n",
    "librosa.display.specshow(\n",
    "    audio_file_DB, sr=sr, hop_length=hop_length, x_axis='time', y_axis='mel')\n",
    "plt.colorbar(format='%+2.0f dB')\n",
    "plt.show()\n"
   ]
  },
  {
   "cell_type": "markdown",
   "id": "spare-modem",
   "metadata": {},
   "source": [
    "## tSNE"
   ]
  },
  {
   "cell_type": "code",
   "execution_count": null,
   "id": "thirty-quarter",
   "metadata": {
    "ExecuteTime": {
     "end_time": "2021-03-29T11:26:49.514914Z",
     "start_time": "2021-03-29T11:26:49.401234Z"
    }
   },
   "outputs": [],
   "source": [
    "ls "
   ]
  },
  {
   "cell_type": "code",
   "execution_count": null,
   "id": "married-possession",
   "metadata": {
    "ExecuteTime": {
     "end_time": "2021-03-29T12:20:16.013389Z",
     "start_time": "2021-03-29T12:20:14.710050Z"
    },
    "scrolled": true
   },
   "outputs": [],
   "source": [
    "data_path = 'fma/fma_small_mono_wav'\n",
    "audio_fns = [fn.rsplit('.', 1)[0] for fn in os.listdir(data_path)]\n",
    "audio_fns.sort()\n",
    "\n",
    "data_meta_path = 'fma/fma_metadata/tracks.csv'\n",
    "data_meta = pd.read_csv(data_meta_path).to_numpy()\n",
    "data_labels = data_meta[:, [6, 40]]\n",
    "\n",
    "print(data_meta[0, :])"
   ]
  },
  {
   "cell_type": "code",
   "execution_count": null,
   "id": "tropical-walker",
   "metadata": {
    "ExecuteTime": {
     "end_time": "2021-03-29T12:14:08.973725Z",
     "start_time": "2021-03-29T12:14:08.968851Z"
    }
   },
   "outputs": [],
   "source": [
    "small = tracks[tracks['set', 'subset'] <= 'small']\n",
    "small.shape"
   ]
  },
  {
   "cell_type": "code",
   "execution_count": null,
   "id": "arctic-baptist",
   "metadata": {
    "ExecuteTime": {
     "end_time": "2021-03-29T12:10:19.301988Z",
     "start_time": "2021-03-29T12:10:11.023105Z"
    },
    "scrolled": true
   },
   "outputs": [],
   "source": [
    "audio_labels = []\n",
    "for fn in audio_fns:\n",
    "    print(np.where(data_labels[:, 0] == int(fn)))"
   ]
  },
  {
   "cell_type": "code",
   "execution_count": null,
   "id": "rising-chaos",
   "metadata": {
    "ExecuteTime": {
     "end_time": "2021-03-29T12:09:18.490863Z",
     "start_time": "2021-03-29T12:09:18.445891Z"
    }
   },
   "outputs": [],
   "source": [
    "for r in data_labels[2:]:\n",
    "    r[0] = int(r[0])\n",
    "\n",
    "print(data_labels)"
   ]
  },
  {
   "cell_type": "code",
   "execution_count": null,
   "id": "circular-funds",
   "metadata": {
    "ExecuteTime": {
     "end_time": "2021-03-29T12:23:13.254355Z",
     "start_time": "2021-03-29T12:21:20.359196Z"
    }
   },
   "outputs": [],
   "source": [
    "data_path = 'fma/fmaSmall_melSpec64x1920_22050hz_np/'\n",
    "mel_spec_fns = os.listdir(data_path)\n",
    "mel_spec_paths = [os.path.join(data_path, fn) for fn in mel_spec_fns]\n",
    "fma_data = np.array([np.load(mel_spec)\n",
    "                    for mel_spec in mel_spec_paths]).reshape((7997, -1))\n",
    "\n",
    "tsne_data = TSNE(n_components=2).fit_transform(fma_data)\n",
    "plt.figure(figsize=(10, 7.5))\n",
    "\n",
    "tsne_plot_AE = sns.scatterplot(x=tsne_data[:, 0],\n",
    "                               y=tsne_data[:, 1])\n",
    "\n",
    "# tsne_plot_AE.legend(loc='center left', bbox_to_anchor=(1, 0.5), ncol=1)\n",
    "tsne_plot_AE.set_title('TSNE of fma', fontdict={'fontsize': 25})\n",
    "\n",
    "plt.show()"
   ]
  },
  {
   "cell_type": "markdown",
   "id": "center-panic",
   "metadata": {},
   "source": [
    "## PCA"
   ]
  },
  {
   "cell_type": "code",
   "execution_count": null,
   "id": "capable-birthday",
   "metadata": {},
   "outputs": [],
   "source": [
    "tsne_data = PCA(n_components=2).fit_transform(cp_gtzan_data)\n",
    "plt.figure(figsize=(10, 7.5))\n",
    "tsne_plot_AE = sns.scatterplot(x=tsne_data[:, 0],\n",
    "                               y=tsne_data[:, 1],\n",
    "                               hue=gtzan_labels[:, 0],\n",
    "                               palette=['purple', 'red', 'orange', 'brown', 'blue',\n",
    "                                        'dodgerblue', 'green', 'lightgreen', 'darkcyan', 'black'],\n",
    "                               legend='full')\n",
    "\n",
    "tsne_plot_AE.legend(loc='center left', bbox_to_anchor=(1, 0.5), ncol=1)\n",
    "tsne_plot_AE.set_title(\n",
    "    'PCA of gtzan features (no standardization)', fontdict={'fontsize': 25})\n",
    "\n",
    "plt.show()"
   ]
  },
  {
   "cell_type": "code",
   "execution_count": null,
   "id": "fatal-moderator",
   "metadata": {},
   "outputs": [],
   "source": []
  },
  {
   "cell_type": "code",
   "execution_count": null,
   "id": "modern-gardening",
   "metadata": {
    "ExecuteTime": {
     "end_time": "2021-04-01T09:09:14.965983Z",
     "start_time": "2021-04-01T09:09:14.945102Z"
    }
   },
   "outputs": [],
   "source": [
    "import tensorflow as tf\n",
    "import tensorflow_addons as tfa"
   ]
  },
  {
   "cell_type": "code",
   "execution_count": null,
   "id": "satellite-paradise",
   "metadata": {
    "ExecuteTime": {
     "end_time": "2021-04-01T09:12:38.712804Z",
     "start_time": "2021-04-01T09:12:38.669163Z"
    }
   },
   "outputs": [],
   "source": [
    "outputs = np.random.randint(low=0, high=100, size=(5,5))\n",
    "print(outputs)\n",
    "tfa.image.gaussian_filter2d(outputs, filter_shape=(0,4), sigma=4)\n"
   ]
  }
 ],
 "metadata": {
  "kernelspec": {
   "display_name": "Python 3",
   "language": "python",
   "name": "python3"
  },
  "language_info": {
   "codemirror_mode": {
    "name": "ipython",
    "version": 3
   },
   "file_extension": ".py",
   "mimetype": "text/x-python",
   "name": "python",
   "nbconvert_exporter": "python",
   "pygments_lexer": "ipython3",
   "version": "3.7.9"
  },
  "toc": {
   "base_numbering": 1,
   "nav_menu": {},
   "number_sections": true,
   "sideBar": true,
   "skip_h1_title": false,
   "title_cell": "Table of Contents",
   "title_sidebar": "Contents",
   "toc_cell": false,
   "toc_position": {
    "height": "calc(100% - 180px)",
    "left": "10px",
    "top": "150px",
    "width": "341.818px"
   },
   "toc_section_display": true,
   "toc_window_display": true
  },
  "varInspector": {
   "cols": {
    "lenName": 16,
    "lenType": 16,
    "lenVar": 40
   },
   "kernels_config": {
    "python": {
     "delete_cmd_postfix": "",
     "delete_cmd_prefix": "del ",
     "library": "var_list.py",
     "varRefreshCmd": "print(var_dic_list())"
    },
    "r": {
     "delete_cmd_postfix": ") ",
     "delete_cmd_prefix": "rm(",
     "library": "var_list.r",
     "varRefreshCmd": "cat(var_dic_list()) "
    }
   },
   "types_to_exclude": [
    "module",
    "function",
    "builtin_function_or_method",
    "instance",
    "_Feature"
   ],
   "window_display": false
  }
 },
 "nbformat": 4,
 "nbformat_minor": 5
}

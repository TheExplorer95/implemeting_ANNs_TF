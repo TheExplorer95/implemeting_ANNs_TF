{
 "cells": [
  {
   "cell_type": "code",
   "execution_count": 2,
   "metadata": {},
   "outputs": [],
   "source": [
    "import tensorflow as tf\n",
    "import numpy as np\n",
    "import os\n",
    "from os import path\n",
    "from pydub import AudioSegment\n",
    "from os import listdir"
   ]
  },
  {
   "cell_type": "code",
   "execution_count": 4,
   "metadata": {},
   "outputs": [],
   "source": [
    "def transform_to_wav(filepaths, directory_name, desired_sr):\n",
    "    for i, path in enumerate(filepaths):\n",
    "        if i%100 == 0:\n",
    "            print(i, \"completed\")\n",
    "        destination_file = os.path.join(directory_name, path.split(\"/\")[-1].replace(\"mp3\",\"wav\"))\n",
    "\n",
    "        # convert wav to mp3\n",
    "        try:\n",
    "            sound = AudioSegment.from_mp3(path)\n",
    "            l = sound.split_to_mono()\n",
    "        except:\n",
    "            print(\"file \", path, \" is corrupted\")\n",
    "            continue\n",
    "\n",
    "        try:\n",
    "            sound = l[np.random.randint(0,2)] # randomly take first or second channel\n",
    "        except:\n",
    "            sound = l[0]\n",
    "\n",
    "        sound = sound.set_frame_rate(desired_sr)\n",
    "        sound.export(destination_file, format=\"wav\")"
   ]
  },
  {
   "cell_type": "code",
   "execution_count": 5,
   "metadata": {},
   "outputs": [
    {
     "name": "stdout",
     "output_type": "stream",
     "text": [
      "number of files to convert:  8000\n"
     ]
    }
   ],
   "source": [
    "paths = listdir(\"fma_small/\")\n",
    "\n",
    "paths = [os.path.join(\"fma_small\", p) for p in paths]\n",
    "\n",
    "all_mp3 = []\n",
    "\n",
    "for path in paths:\n",
    "    \n",
    "    files = listdir(path)\n",
    "    \n",
    "    for file in files:\n",
    "        all_mp3.append(os.path.join(path,file))\n",
    "        \n",
    "print(\"number of files to convert: \",len(all_mp3))"
   ]
  },
  {
   "cell_type": "code",
   "execution_count": 7,
   "metadata": {},
   "outputs": [
    {
     "name": "stdout",
     "output_type": "stream",
     "text": [
      "0 completed\n",
      "100 completed\n",
      "200 completed\n",
      "300 completed\n",
      "400 completed\n",
      "500 completed\n",
      "600 completed\n",
      "700 completed\n",
      "800 completed\n",
      "900 completed\n",
      "1000 completed\n",
      "file  fma_small/133/133297.mp3  is corrupted\n",
      "1100 completed\n",
      "1200 completed\n",
      "1300 completed\n",
      "1400 completed\n",
      "1500 completed\n",
      "1600 completed\n",
      "1700 completed\n",
      "1800 completed\n",
      "1900 completed\n",
      "2000 completed\n",
      "2100 completed\n",
      "2200 completed\n",
      "2300 completed\n",
      "2400 completed\n",
      "2500 completed\n",
      "2600 completed\n",
      "2700 completed\n",
      "2800 completed\n",
      "2900 completed\n",
      "3000 completed\n",
      "3100 completed\n",
      "3200 completed\n",
      "3300 completed\n",
      "3400 completed\n",
      "3500 completed\n",
      "3600 completed\n",
      "3700 completed\n",
      "3800 completed\n",
      "3900 completed\n",
      "4000 completed\n",
      "4100 completed\n",
      "4200 completed\n",
      "4300 completed\n",
      "4400 completed\n",
      "4500 completed\n",
      "4600 completed\n",
      "4700 completed\n",
      "4800 completed\n",
      "4900 completed\n",
      "5000 completed\n",
      "5100 completed\n",
      "5200 completed\n",
      "5300 completed\n",
      "5400 completed\n",
      "5500 completed\n",
      "5600 completed\n",
      "5700 completed\n",
      "5800 completed\n",
      "5900 completed\n",
      "6000 completed\n",
      "6100 completed\n",
      "6200 completed\n",
      "6300 completed\n",
      "file  fma_small/108/108925.mp3  is corrupted\n",
      "6400 completed\n",
      "file  fma_small/099/099134.mp3  is corrupted\n",
      "6500 completed\n",
      "6600 completed\n",
      "6700 completed\n",
      "6800 completed\n",
      "6900 completed\n",
      "7000 completed\n",
      "7100 completed\n",
      "7200 completed\n",
      "7300 completed\n",
      "7400 completed\n",
      "7500 completed\n",
      "7600 completed\n",
      "7700 completed\n",
      "7800 completed\n",
      "7900 completed\n"
     ]
    }
   ],
   "source": [
    "destination = \"fma_small_mono_wav/\"\n",
    "desired_sr = 22050 \n",
    "\n",
    "transform_to_wav(all_mp3, destination, desired_sr)"
   ]
  }
 ],
 "metadata": {
  "kernelspec": {
   "display_name": "Python 3",
   "language": "python",
   "name": "python3"
  },
  "language_info": {
   "codemirror_mode": {
    "name": "ipython",
    "version": 3
   },
   "file_extension": ".py",
   "mimetype": "text/x-python",
   "name": "python",
   "nbconvert_exporter": "python",
   "pygments_lexer": "ipython3",
   "version": "3.8.8"
  }
 },
 "nbformat": 4,
 "nbformat_minor": 4
}

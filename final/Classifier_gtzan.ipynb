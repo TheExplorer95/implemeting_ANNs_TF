{
 "cells": [
  {
   "cell_type": "code",
   "execution_count": 1,
   "metadata": {},
   "outputs": [],
   "source": [
    "import numpy as np\n",
    "import pandas as pd\n",
    "import tensorflow as tf\n",
    "import tensorflow_datasets as tfds\n",
    "import matplotlib.pyplot as plt\n",
    "from sklearn.preprocessing import StandardScaler, OneHotEncoder\n",
    "import random\n",
    "import time\n",
    "\n",
    "%config Completer.use_jedi = False\n",
    "\n",
    "# for shit with my gpu /Janosch\n",
    "from tensorflow import compat\n",
    "def configure_gpu_options():\n",
    "    config = compat.v1.ConfigProto()\n",
    "    config.gpu_options.allow_growth = True\n",
    "    sess = compat.v1.Session(config=config)\n",
    "    compat.v1.keras.backend.set_session(sess)"
   ]
  },
  {
   "cell_type": "code",
   "execution_count": null,
   "metadata": {},
   "outputs": [],
   "source": [
    "EPOCHS = 20\n",
    "DS_SPLIT = 701\n",
    "BATCH_SIZE = 32"
   ]
  },
  {
   "cell_type": "markdown",
   "metadata": {},
   "source": [
    "# Helpers"
   ]
  },
  {
   "cell_type": "code",
   "execution_count": 2,
   "metadata": {},
   "outputs": [],
   "source": [
    "class Timer():\n",
    "    \"\"\"\n",
    "    A small class for making timings.\n",
    "    \"\"\"\n",
    "    def __init__(self):\n",
    "        self._start_time = None\n",
    "\n",
    "    def start(self):\n",
    "        \"\"\"\n",
    "        Start a new timer\n",
    "        \"\"\"\n",
    "        self._start_time = time.perf_counter()\n",
    "\n",
    "    def stop(self):\n",
    "        \"\"\"\n",
    "        Stop the timer, and report the elapsed time\n",
    "        \"\"\"\n",
    "        if self._start_time is None:\n",
    "            print(f\"Timer is not running. Use .start() to start it\")\n",
    "            return 0\n",
    "    \n",
    "        elapsed_time = time.perf_counter() - self._start_time\n",
    "        self._start_time = None\n",
    "        return elapsed_time  "
   ]
  },
  {
   "cell_type": "markdown",
   "metadata": {},
   "source": [
    "# Preprocess Data"
   ]
  },
  {
   "cell_type": "code",
   "execution_count": 3,
   "metadata": {},
   "outputs": [],
   "source": [
    "gtzan_info = pd.read_csv('data/gtzan/features_30_sec.csv')\n",
    "gtzan_data = gtzan_info.loc[:, 'chroma_stft_mean':'mfcc20_var'].to_numpy()\n",
    "gtzan_labels = np.expand_dims(gtzan_info.loc[:, 'label'].to_numpy(), axis=1)\n",
    "\n",
    "# Standardize the data\n",
    "gtzan_mean = np.expand_dims(np.mean(gtzan_data, axis=0), axis=0)\n",
    "gtzan_std = np.expand_dims(np.std(gtzan_data, axis=0), axis=0)\n",
    "gtzan_data = (gtzan_data-gtzan_mean)/gtzan_std\n",
    "\n",
    "# one_hot encode labels\n",
    "encoder = OneHotEncoder()\n",
    "gtzan_targets = encoder.fit_transform(gtzan_labels).toarray()\n",
    "\n",
    "data_shape = gtzan_data.shape[-1]\n",
    "classes = gtzan_targets.shape[-1]"
   ]
  },
  {
   "cell_type": "code",
   "execution_count": 4,
   "metadata": {},
   "outputs": [],
   "source": [
    "def create_tfds(inputs, targets, batch_size=None, buffer_size=None, prefetch_factor=None):\n",
    "    '''\n",
    "    Create an input pipeline from tf.dataset. \n",
    "    Adjusted to only take input as there are no labels for autoencoders.\n",
    "    ''' \n",
    "    dataset = tf.data.Dataset.from_tensor_slices((inputs, targets))\n",
    "\n",
    "    if not buffer_size is None:\n",
    "        dataset = dataset.shuffle(buffer_size)\n",
    "    \n",
    "    if not batch_size is None:\n",
    "        dataset = dataset.batch(batch_size)        \n",
    "    \n",
    "    if not prefetch_factor is None:\n",
    "        dataset = dataset.prefetch(prefetch_factor)\n",
    "    \n",
    "    return dataset\n",
    "\n",
    "ds_split = DS_SPLIT\n",
    "batch_size = BATCH_SIZE\n",
    "\n",
    "gtzan_train = create_tfds(gtzan_data[:ds_split], gtzan_targets[:ds_split], \n",
    "                          batch_size=batch_size, \n",
    "                          buffer_size=1024, \n",
    "                          prefetch_factor=tf.data.experimental.AUTOTUNE)\n",
    "\n",
    "gtzan_test = create_tfds(gtzan_data[ds_split:], gtzan_targets[ds_split:], \n",
    "                         batch_size=batch_size, \n",
    "                         buffer_size=1024, \n",
    "                         prefetch_factor=tf.data.experimental.AUTOTUNE)"
   ]
  },
  {
   "cell_type": "code",
   "execution_count": 5,
   "metadata": {},
   "outputs": [
    {
     "name": "stdout",
     "output_type": "stream",
     "text": [
      "(16, 57) (16, 10)\n"
     ]
    }
   ],
   "source": [
    "for x, y in gtzan_train.take(1):\n",
    "    print(x.shape, y.shape)"
   ]
  },
  {
   "cell_type": "markdown",
   "metadata": {},
   "source": [
    "# Create Model"
   ]
  },
  {
   "cell_type": "code",
   "execution_count": 6,
   "metadata": {},
   "outputs": [],
   "source": [
    "class Classifier(tf.keras.Model): \n",
    "    def __init__(self, classes, act_fct='relu', out_act='softmax'):\n",
    "        super(Classifier, self).__init__()\n",
    "        self.hidden_layers = []\n",
    "        \n",
    "        units = [256, 128, 64, 32]\n",
    "        \n",
    "        for i in range(len(units)-1):\n",
    "            self.hidden_layers.append(tf.keras.layers.Dense(units=units[i]))\n",
    "            self.hidden_layers.append(tf.keras.layers.BatchNormalization())\n",
    "            self.hidden_layers.append(tf.keras.layers.Activation(act_fct))\n",
    "        \n",
    "        self.output_layer = tf.keras.layers.Dense(units=classes,\n",
    "                                                  activation=out_act, \n",
    "                                                  use_bias=False)\n",
    "                                               \n",
    "    def call(self, x, training=False):\n",
    "        for l in self.hidden_layers:\n",
    "            try:\n",
    "                x = l(x, training)\n",
    "            except:\n",
    "                x = l(x)\n",
    "\n",
    "        return self.output_layer(x)"
   ]
  },
  {
   "cell_type": "code",
   "execution_count": 7,
   "metadata": {},
   "outputs": [
    {
     "name": "stdout",
     "output_type": "stream",
     "text": [
      "Model: \"classifier\"\n",
      "_________________________________________________________________\n",
      "Layer (type)                 Output Shape              Param #   \n",
      "=================================================================\n",
      "dense (Dense)                multiple                  14848     \n",
      "_________________________________________________________________\n",
      "batch_normalization (BatchNo multiple                  1024      \n",
      "_________________________________________________________________\n",
      "activation (Activation)      multiple                  0         \n",
      "_________________________________________________________________\n",
      "dense_1 (Dense)              multiple                  32896     \n",
      "_________________________________________________________________\n",
      "batch_normalization_1 (Batch multiple                  512       \n",
      "_________________________________________________________________\n",
      "activation_1 (Activation)    multiple                  0         \n",
      "_________________________________________________________________\n",
      "dense_2 (Dense)              multiple                  8256      \n",
      "_________________________________________________________________\n",
      "batch_normalization_2 (Batch multiple                  256       \n",
      "_________________________________________________________________\n",
      "activation_2 (Activation)    multiple                  0         \n",
      "_________________________________________________________________\n",
      "dense_3 (Dense)              multiple                  640       \n",
      "=================================================================\n",
      "Total params: 58,432\n",
      "Trainable params: 57,536\n",
      "Non-trainable params: 896\n",
      "_________________________________________________________________\n"
     ]
    }
   ],
   "source": [
    "# initialize the model and specify parameters\n",
    "tf.keras.backend.clear_session()\n",
    "configure_gpu_options()\n",
    "\n",
    "learning_rate = 1e-4\n",
    "\n",
    "# Initialize the model.\n",
    "model = Classifier(classes)\n",
    "model.build((batch_size, data_shape))\n",
    "model.summary()\n",
    "loss_function = tf.keras.losses.CategoricalCrossentropy()\n",
    "optimizer = tf.keras.optimizers.Adam()#SGD(learning_rate, momentum=0.9)\n",
    "\n",
    "# prepare metrics\n",
    "train_acc_metric = tf.keras.metrics.CategoricalAccuracy('train_accuracy')\n",
    "train_loss_metric = tf.keras.metrics.Mean('train_loss')\n",
    "test_acc_metric = tf.keras.metrics.CategoricalAccuracy('test_accuracy')\n",
    "test_loss_metric = tf.keras.metrics.Mean('test_loss')\n",
    "\n",
    "train_losses = []\n",
    "train_accuracies = []\n",
    "test_losses = []\n",
    "test_accuracies = []"
   ]
  },
  {
   "cell_type": "markdown",
   "metadata": {},
   "source": [
    "# Train the model"
   ]
  },
  {
   "cell_type": "code",
   "execution_count": 8,
   "metadata": {},
   "outputs": [],
   "source": [
    "@tf.function\n",
    "def train(model, ds, loss_function, optimizer, train_loss_metric, train_acc_metric):\n",
    "    for x, target in ds:\n",
    "        with tf.GradientTape() as tape:\n",
    "            prediction = model(x)\n",
    "            loss = loss_function(target, prediction)\n",
    "        gradients = tape.gradient(loss, model.trainable_variables)\n",
    "        optimizer.apply_gradients(zip(gradients, model.trainable_variables))\n",
    "        \n",
    "        # update metrics\n",
    "        train_loss_metric.update_state(loss)\n",
    "        train_acc_metric.update_state(target, prediction)\n",
    "\n",
    "@tf.function\n",
    "def test(model, ds, loss_function, loss_metric, acc_metric):\n",
    "    for x, target in ds:\n",
    "        prediction = model(x)\n",
    "        loss = loss_function(target, prediction)\n",
    "\n",
    "        # update metrics\n",
    "        loss_metric.update_state(loss)\n",
    "        acc_metric.update_state(target, prediction)        "
   ]
  },
  {
   "cell_type": "code",
   "execution_count": 9,
   "metadata": {},
   "outputs": [],
   "source": [
    "def eval_metric(metric, val_list):\n",
    "    result = metric.result()\n",
    "    metric.reset_states()\n",
    "    val_list.append(result)\n",
    "    return result"
   ]
  },
  {
   "cell_type": "code",
   "execution_count": 10,
   "metadata": {
    "scrolled": true
   },
   "outputs": [
    {
     "name": "stdout",
     "output_type": "stream",
     "text": [
      "\n",
      "[INFO] - Total time elapsed: 0.0070 min. Total time remaining: 0.1331 min.\n",
      "\n",
      "[Epoch 0] - deltaT: 0.42s - train_loss: 1.4634 - train_acc: 0.5207 - test_loss: 0.7866, test_acc: 0.7489\n",
      "[Epoch 1] - deltaT: 0.15s - train_loss: 0.6865 - train_acc: 0.7746 - test_loss: 0.4442, test_acc: 0.8631\n",
      "[Epoch 2] - deltaT: 0.16s - train_loss: 0.4589 - train_acc: 0.8474 - test_loss: 0.3166, test_acc: 0.9016\n",
      "[Epoch 3] - deltaT: 0.16s - train_loss: 0.3069 - train_acc: 0.9087 - test_loss: 0.2073, test_acc: 0.9558\n",
      "[Epoch 4] - deltaT: 0.16s - train_loss: 0.2274 - train_acc: 0.9301 - test_loss: 0.1569, test_acc: 0.9672\n",
      "\n",
      "[INFO] - Total time elapsed: 0.0201 min. Total time remaining: 0.0468 min.\n",
      "\n",
      "[Epoch 5] - deltaT: 0.16s - train_loss: 0.1692 - train_acc: 0.9515 - test_loss: 0.1266, test_acc: 0.9700\n",
      "[Epoch 6] - deltaT: 0.15s - train_loss: 0.1245 - train_acc: 0.9643 - test_loss: 0.0774, test_acc: 0.9857\n",
      "[Epoch 7] - deltaT: 0.15s - train_loss: 0.0928 - train_acc: 0.9729 - test_loss: 0.0496, test_acc: 0.9971\n",
      "[Epoch 8] - deltaT: 0.16s - train_loss: 0.0507 - train_acc: 0.9914 - test_loss: 0.0322, test_acc: 1.0000\n",
      "[Epoch 9] - deltaT: 0.15s - train_loss: 0.0351 - train_acc: 0.9971 - test_loss: 0.0253, test_acc: 1.0000\n",
      "\n",
      "[INFO] - Total time elapsed: 0.0329 min. Total time remaining: 0.0269 min.\n",
      "\n",
      "[Epoch 10] - deltaT: 0.15s - train_loss: 0.0254 - train_acc: 0.9986 - test_loss: 0.0218, test_acc: 1.0000\n",
      "[Epoch 11] - deltaT: 0.15s - train_loss: 0.0200 - train_acc: 0.9971 - test_loss: 0.0119, test_acc: 1.0000\n",
      "[Epoch 12] - deltaT: 0.16s - train_loss: 0.0122 - train_acc: 1.0000 - test_loss: 0.0098, test_acc: 1.0000\n",
      "[Epoch 13] - deltaT: 0.16s - train_loss: 0.0091 - train_acc: 1.0000 - test_loss: 0.0062, test_acc: 1.0000\n",
      "[Epoch 14] - deltaT: 0.16s - train_loss: 0.0075 - train_acc: 1.0000 - test_loss: 0.0053, test_acc: 1.0000\n",
      "\n",
      "[INFO] - Total time elapsed: 0.0461 min. Total time remaining: 0.0115 min.\n",
      "\n",
      "[Epoch 15] - deltaT: 0.16s - train_loss: 0.0053 - train_acc: 1.0000 - test_loss: 0.0041, test_acc: 1.0000\n",
      "[Epoch 16] - deltaT: 0.16s - train_loss: 0.0042 - train_acc: 1.0000 - test_loss: 0.0038, test_acc: 1.0000\n",
      "[Epoch 17] - deltaT: 0.15s - train_loss: 0.0038 - train_acc: 1.0000 - test_loss: 0.0031, test_acc: 1.0000\n",
      "[Epoch 18] - deltaT: 0.17s - train_loss: 0.0031 - train_acc: 1.0000 - test_loss: 0.0028, test_acc: 1.0000\n",
      "[Epoch 19] - deltaT: 0.15s - train_loss: 0.0029 - train_acc: 1.0000 - test_loss: 0.0024, test_acc: 1.0000\n"
     ]
    }
   ],
   "source": [
    "timer = Timer()\n",
    "times = []\n",
    "epochs = EPOCHS\n",
    "    \n",
    "test(model, gtzan_train, loss_function, train_loss_metric, train_acc_metric)\n",
    "test(model, gtzan_train, loss_function, test_loss_metric, test_acc_metric)\n",
    "\n",
    "# Evaluating metrics\n",
    "eval_metric(train_loss_metric, train_losses)\n",
    "eval_metric(train_acc_metric, train_accuracies)\n",
    "eval_metric(test_loss_metric, test_losses)\n",
    "eval_metric(test_acc_metric, test_accuracies)\n",
    "\n",
    "for epoch in range(epochs):    \n",
    "    # training step with metrics update--------------------------------------------------------\n",
    "    timer.start()\n",
    "    train(model, gtzan_train, loss_function, optimizer, train_loss_metric, train_acc_metric)\n",
    "    test(model, gtzan_train, loss_function, test_loss_metric, test_acc_metric)\n",
    "    \n",
    "    # Evaluating metrics\n",
    "    train_loss = eval_metric(train_loss_metric, train_losses)\n",
    "    train_acc = eval_metric(train_acc_metric, train_accuracies)\n",
    "    test_loss = eval_metric(test_loss_metric, test_losses)\n",
    "    test_acc = eval_metric(test_acc_metric, test_accuracies)   \n",
    "    \n",
    "    elapsed_time = timer.stop()\n",
    "    times.append(elapsed_time)\n",
    "\n",
    "    if epoch%5 == 0:\n",
    "        print(f'\\n[INFO] - Total time elapsed: {np.sum(times)/60:0.4f} min. Total time remaining: {(np.sum(times)/(epoch+1))*(epochs-epoch-1)/60:0.4f} min.\\n')\n",
    "\n",
    "    print(f'[Epoch {epoch}] - deltaT: {elapsed_time:0.2f}s - train_loss: {train_loss:0.4f} - train_acc: {train_acc:0.4f} - test_loss: {test_loss:0.4f}, test_acc: {test_acc:0.4f}')"
   ]
  },
  {
   "cell_type": "code",
   "execution_count": 11,
   "metadata": {},
   "outputs": [
    {
     "data": {
      "image/png": "[encoded data removed]",
      "text/plain": [
       "<Figure size 1440x504 with 2 Axes>"
      ]
     },
     "metadata": {
      "needs_background": "light"
     },
     "output_type": "display_data"
    }
   ],
   "source": [
    "fig, axes = plt.subplots(nrows=1, ncols=2, figsize=(20,7))\n",
    "\n",
    "x = np.arange(len(train_losses))\n",
    "\n",
    "# losses\n",
    "axes[0].plot(x, train_losses, label='train')\n",
    "axes[0].plot(x, test_losses, label='test')\n",
    "axes[0].legend()\n",
    "axes[0].set(title='Losses', xlabel='Epoch', ylabel='loss')\n",
    "\n",
    "# accuracies\n",
    "axes[1].plot(x, train_accuracies, label='train')\n",
    "axes[1].plot(x, test_accuracies, label='test')\n",
    "axes[1].legend()\n",
    "axes[1].set(title='Accuracies', xlabel='Epoch', ylabel='accuracy')\n",
    "\n",
    "plt.show()"
   ]
  }
 ],
 "metadata": {
  "kernelspec": {
   "display_name": "Python 3",
   "language": "python",
   "name": "python3"
  },
  "language_info": {
   "codemirror_mode": {
    "name": "ipython",
    "version": 3
   },
   "file_extension": ".py",
   "mimetype": "text/x-python",
   "name": "python",
   "nbconvert_exporter": "python",
   "pygments_lexer": "ipython3",
   "version": "3.8.8"
  }
 },
 "nbformat": 4,
 "nbformat_minor": 5
}
